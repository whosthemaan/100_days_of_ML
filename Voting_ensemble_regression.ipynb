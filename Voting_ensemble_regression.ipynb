{
 "cells": [
  {
   "cell_type": "code",
   "execution_count": 3,
   "metadata": {},
   "outputs": [],
   "source": [
    "from sklearn import datasets\n",
    "import numpy as np\n",
    "import pandas as pd"
   ]
  },
  {
   "cell_type": "code",
   "execution_count": 7,
   "metadata": {},
   "outputs": [],
   "source": [
    "X, y = datasets.fetch_california_housing(return_X_y=True)"
   ]
  },
  {
   "cell_type": "code",
   "execution_count": 14,
   "metadata": {},
   "outputs": [
    {
     "data": {
      "text/plain": [
       "(20640, 8)"
      ]
     },
     "execution_count": 14,
     "metadata": {},
     "output_type": "execute_result"
    }
   ],
   "source": [
    "X.shape"
   ]
  },
  {
   "cell_type": "code",
   "execution_count": 15,
   "metadata": {},
   "outputs": [
    {
     "data": {
      "text/plain": [
       "(20640,)"
      ]
     },
     "execution_count": 15,
     "metadata": {},
     "output_type": "execute_result"
    }
   ],
   "source": [
    "y.shape"
   ]
  },
  {
   "cell_type": "code",
   "execution_count": 16,
   "metadata": {},
   "outputs": [],
   "source": [
    "from sklearn.linear_model import LinearRegression\n",
    "from sklearn.tree import DecisionTreeRegressor\n",
    "from sklearn.svm import SVR\n",
    "from sklearn.model_selection import cross_val_score"
   ]
  },
  {
   "cell_type": "code",
   "execution_count": 17,
   "metadata": {},
   "outputs": [],
   "source": [
    "lr = LinearRegression()\n",
    "dt = DecisionTreeRegressor()\n",
    "svr = SVR()"
   ]
  },
  {
   "cell_type": "code",
   "execution_count": 18,
   "metadata": {},
   "outputs": [],
   "source": [
    "estimators=[('lr', lr), ('dt', dt), ('svr', svr)]"
   ]
  },
  {
   "cell_type": "code",
   "execution_count": 20,
   "metadata": {},
   "outputs": [
    {
     "name": "stdout",
     "output_type": "stream",
     "text": [
      "lr 0.51\n",
      "dt 0.24\n",
      "svr -0.25\n"
     ]
    }
   ],
   "source": [
    "for estimate in estimators:\n",
    "    scores = cross_val_score(estimate[1], X,y,scoring='r2',cv=10)\n",
    "    print(estimate[0], np.round(np.mean(scores),2))"
   ]
  },
  {
   "cell_type": "code",
   "execution_count": 21,
   "metadata": {},
   "outputs": [
    {
     "name": "stdout",
     "output_type": "stream",
     "text": [
      "Voting Regressor 0.47\n"
     ]
    }
   ],
   "source": [
    "from sklearn.ensemble import VotingRegressor\n",
    "vr = VotingRegressor(estimators)\n",
    "scores=cross_val_score(vr,X,y,scoring='r2',cv=10)\n",
    "print(\"Voting Regressor\", np.round(np.mean(scores),2))"
   ]
  },
  {
   "cell_type": "code",
   "execution_count": 28,
   "metadata": {},
   "outputs": [],
   "source": [
    "X = X[:5000]\n",
    "y = y[:5000]\n",
    "X.shape"
   ]
  },
  {
   "cell_type": "code",
   "execution_count": 30,
   "metadata": {},
   "outputs": [
    {
     "name": "stdout",
     "output_type": "stream",
     "text": [
      "for i=1,j=1,k=1 -0.87\n",
      "for i=1,j=1,k=2 -0.74\n",
      "for i=1,j=1,k=3 -0.76\n",
      "for i=1,j=2,k=1 -0.4\n",
      "for i=1,j=2,k=2 -0.38\n",
      "for i=1,j=2,k=3 -0.42\n",
      "for i=1,j=3,k=1 -0.25\n",
      "for i=1,j=3,k=2 -0.22\n",
      "for i=1,j=3,k=3 -0.25\n",
      "for i=2,j=1,k=1 -1.9\n",
      "for i=2,j=1,k=2 -1.39\n",
      "for i=2,j=1,k=3 -1.16\n",
      "for i=2,j=2,k=1 -1.12\n",
      "for i=2,j=2,k=2 -0.88\n",
      "for i=2,j=2,k=3 -0.77\n",
      "for i=2,j=3,k=1 -0.74\n",
      "for i=2,j=3,k=2 -0.56\n",
      "for i=2,j=3,k=3 -0.53\n",
      "for i=3,j=1,k=1 -2.78\n",
      "for i=3,j=1,k=2 -2.03\n",
      "for i=3,j=1,k=3 -1.64\n",
      "for i=3,j=2,k=1 -1.86\n",
      "for i=3,j=2,k=2 -1.41\n",
      "for i=3,j=2,k=3 -1.17\n",
      "for i=3,j=3,k=1 -1.31\n",
      "for i=3,j=3,k=2 -1.02\n",
      "for i=3,j=3,k=3 -0.87\n"
     ]
    }
   ],
   "source": [
    "#weighted voting\n",
    "\n",
    "for i in range(1,4):\n",
    "    for j in range(1,4):\n",
    "        for k in range(1,4):\n",
    "            vr = VotingRegressor(estimators=estimators, weights=[i,j,k])\n",
    "            x = cross_val_score(vr,X,y,scoring='r2',cv=10)\n",
    "            print(\"for i={},j={},k={}\".format(i,j,k),np.round(np.mean(x),2))"
   ]
  }
 ],
 "metadata": {
  "kernelspec": {
   "display_name": "DL",
   "language": "python",
   "name": "python3"
  },
  "language_info": {
   "codemirror_mode": {
    "name": "ipython",
    "version": 3
   },
   "file_extension": ".py",
   "mimetype": "text/x-python",
   "name": "python",
   "nbconvert_exporter": "python",
   "pygments_lexer": "ipython3",
   "version": "3.11.3"
  },
  "orig_nbformat": 4
 },
 "nbformat": 4,
 "nbformat_minor": 2
}
