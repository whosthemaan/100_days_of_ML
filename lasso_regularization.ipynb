{
 "cells": [
  {
   "cell_type": "code",
   "execution_count": 15,
   "metadata": {},
   "outputs": [],
   "source": [
    "import numpy as np\n",
    "import pandas as pd\n",
    "import matplotlib.pyplot as plt\n",
    "from sklearn.metrics import r2_score, mean_squared_error"
   ]
  },
  {
   "cell_type": "code",
   "execution_count": 2,
   "metadata": {},
   "outputs": [],
   "source": [
    "from sklearn.datasets import load_diabetes"
   ]
  },
  {
   "cell_type": "code",
   "execution_count": 3,
   "metadata": {},
   "outputs": [],
   "source": [
    "data = load_diabetes()"
   ]
  },
  {
   "cell_type": "code",
   "execution_count": 4,
   "metadata": {},
   "outputs": [],
   "source": [
    "x = data.data\n",
    "y = data.target"
   ]
  },
  {
   "cell_type": "code",
   "execution_count": 5,
   "metadata": {},
   "outputs": [],
   "source": [
    "from sklearn.model_selection import train_test_split"
   ]
  },
  {
   "cell_type": "code",
   "execution_count": 7,
   "metadata": {},
   "outputs": [],
   "source": [
    "X_train, X_test, Y_train, Y_test = train_test_split(x, y, test_size=0.2, random_state=45)"
   ]
  },
  {
   "cell_type": "code",
   "execution_count": 9,
   "metadata": {},
   "outputs": [],
   "source": [
    "from sklearn.linear_model import Lasso"
   ]
  },
  {
   "cell_type": "code",
   "execution_count": 22,
   "metadata": {},
   "outputs": [],
   "source": [
    "alpha=[0.0001, 0.0002, 0.01, 5, 10, 20, 30]"
   ]
  },
  {
   "cell_type": "code",
   "execution_count": 23,
   "metadata": {},
   "outputs": [
    {
     "name": "stdout",
     "output_type": "stream",
     "text": [
      "Alpha:  0.0001\n",
      "0.5189175390351297\n",
      "48.72175884328773\n",
      "Alpha:  0.0002\n",
      "0.5190229937447746\n",
      "48.716418573227116\n",
      "Alpha:  0.01\n",
      "0.5239817294276352\n",
      "48.46464176832339\n",
      "Alpha:  5\n",
      "-0.00045173367297635103\n",
      "70.26050491317196\n",
      "Alpha:  10\n",
      "-0.00045173367297635103\n",
      "70.26050491317196\n",
      "Alpha:  20\n",
      "-0.00045173367297635103\n",
      "70.26050491317196\n",
      "Alpha:  30\n",
      "-0.00045173367297635103\n",
      "70.26050491317196\n"
     ]
    }
   ],
   "source": [
    "for i in alpha:\n",
    "    L = Lasso(alpha=i)\n",
    "    L.fit(X_train, Y_train)\n",
    "    y_pred1 = L.predict(X_test)\n",
    "    print(\"Alpha: \", i)\n",
    "    print(r2_score(Y_test, y_pred1))\n",
    "    print(np.sqrt(mean_squared_error(Y_test, y_pred1)))\n"
   ]
  }
 ],
 "metadata": {
  "kernelspec": {
   "display_name": "DL",
   "language": "python",
   "name": "python3"
  },
  "language_info": {
   "codemirror_mode": {
    "name": "ipython",
    "version": 3
   },
   "file_extension": ".py",
   "mimetype": "text/x-python",
   "name": "python",
   "nbconvert_exporter": "python",
   "pygments_lexer": "ipython3",
   "version": "3.11.3"
  },
  "orig_nbformat": 4
 },
 "nbformat": 4,
 "nbformat_minor": 2
}
