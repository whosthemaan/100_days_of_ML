{
 "cells": [
  {
   "attachments": {},
   "cell_type": "markdown",
   "metadata": {},
   "source": [
    "## Gradient Descent from Scratch"
   ]
  },
  {
   "attachments": {},
   "cell_type": "markdown",
   "metadata": {},
   "source": [
    "### Loss function need not always be a very simple loss function and that can lead to execution get stuck in local minima and hence never achieve global minima"
   ]
  },
  {
   "attachments": {},
   "cell_type": "markdown",
   "metadata": {},
   "source": [
    "### Normalizing the data can lead to a easier curve and hence reduce complexity of minimizing"
   ]
  },
  {
   "cell_type": "code",
   "execution_count": 93,
   "metadata": {},
   "outputs": [],
   "source": [
    "from sklearn.datasets import make_regression\n",
    "from sklearn.model_selection import train_test_split\n",
    "import matplotlib.pyplot as plt\n",
    "from sklearn.metrics import r2_score\n",
    "import numpy as np"
   ]
  },
  {
   "cell_type": "code",
   "execution_count": 57,
   "metadata": {},
   "outputs": [],
   "source": [
    "X,y = make_regression(n_samples=200, n_features=1, n_informative=1, n_targets=1,noise=20)"
   ]
  },
  {
   "cell_type": "code",
   "execution_count": 58,
   "metadata": {},
   "outputs": [],
   "source": [
    "X_train, X_test, Y_train, Y_test = train_test_split(X, y, test_size=0.2)"
   ]
  },
  {
   "cell_type": "code",
   "execution_count": 10,
   "metadata": {},
   "outputs": [
    {
     "data": {
      "text/plain": [
       "<matplotlib.collections.PathCollection at 0x2386e10d2d0>"
      ]
     },
     "execution_count": 10,
     "metadata": {},
     "output_type": "execute_result"
    },
    {
     "data": {
      "image/png": "[encoded data removed]",
      "text/plain": [
       "<Figure size 640x480 with 1 Axes>"
      ]
     },
     "metadata": {},
     "output_type": "display_data"
    }
   ],
   "source": [
    "plt.scatter(X,y)"
   ]
  },
  {
   "cell_type": "code",
   "execution_count": 11,
   "metadata": {},
   "outputs": [],
   "source": [
    "from sklearn.linear_model import LinearRegression"
   ]
  },
  {
   "cell_type": "code",
   "execution_count": 12,
   "metadata": {},
   "outputs": [],
   "source": [
    "lr = LinearRegression()"
   ]
  },
  {
   "cell_type": "code",
   "execution_count": 13,
   "metadata": {},
   "outputs": [
    {
     "data": {
      "text/html": [
       "<style>#sk-container-id-2 {color: black;background-color: white;}#sk-container-id-2 pre{padding: 0;}#sk-container-id-2 div.sk-toggleable {background-color: white;}#sk-container-id-2 label.sk-toggleable__label {cursor: pointer;display: block;width: 100%;margin-bottom: 0;padding: 0.3em;box-sizing: border-box;text-align: center;}#sk-container-id-2 label.sk-toggleable__label-arrow:before {content: \"▸\";float: left;margin-right: 0.25em;color: #696969;}#sk-container-id-2 label.sk-toggleable__label-arrow:hover:before {color: black;}#sk-container-id-2 div.sk-estimator:hover label.sk-toggleable__label-arrow:before {color: black;}#sk-container-id-2 div.sk-toggleable__content {max-height: 0;max-width: 0;overflow: hidden;text-align: left;background-color: #f0f8ff;}#sk-container-id-2 div.sk-toggleable__content pre {margin: 0.2em;color: black;border-radius: 0.25em;background-color: #f0f8ff;}#sk-container-id-2 input.sk-toggleable__control:checked~div.sk-toggleable__content {max-height: 200px;max-width: 100%;overflow: auto;}#sk-container-id-2 input.sk-toggleable__control:checked~label.sk-toggleable__label-arrow:before {content: \"▾\";}#sk-container-id-2 div.sk-estimator input.sk-toggleable__control:checked~label.sk-toggleable__label {background-color: #d4ebff;}#sk-container-id-2 div.sk-label input.sk-toggleable__control:checked~label.sk-toggleable__label {background-color: #d4ebff;}#sk-container-id-2 input.sk-hidden--visually {border: 0;clip: rect(1px 1px 1px 1px);clip: rect(1px, 1px, 1px, 1px);height: 1px;margin: -1px;overflow: hidden;padding: 0;position: absolute;width: 1px;}#sk-container-id-2 div.sk-estimator {font-family: monospace;background-color: #f0f8ff;border: 1px dotted black;border-radius: 0.25em;box-sizing: border-box;margin-bottom: 0.5em;}#sk-container-id-2 div.sk-estimator:hover {background-color: #d4ebff;}#sk-container-id-2 div.sk-parallel-item::after {content: \"\";width: 100%;border-bottom: 1px solid gray;flex-grow: 1;}#sk-container-id-2 div.sk-label:hover label.sk-toggleable__label {background-color: #d4ebff;}#sk-container-id-2 div.sk-serial::before {content: \"\";position: absolute;border-left: 1px solid gray;box-sizing: border-box;top: 0;bottom: 0;left: 50%;z-index: 0;}#sk-container-id-2 div.sk-serial {display: flex;flex-direction: column;align-items: center;background-color: white;padding-right: 0.2em;padding-left: 0.2em;position: relative;}#sk-container-id-2 div.sk-item {position: relative;z-index: 1;}#sk-container-id-2 div.sk-parallel {display: flex;align-items: stretch;justify-content: center;background-color: white;position: relative;}#sk-container-id-2 div.sk-item::before, #sk-container-id-2 div.sk-parallel-item::before {content: \"\";position: absolute;border-left: 1px solid gray;box-sizing: border-box;top: 0;bottom: 0;left: 50%;z-index: -1;}#sk-container-id-2 div.sk-parallel-item {display: flex;flex-direction: column;z-index: 1;position: relative;background-color: white;}#sk-container-id-2 div.sk-parallel-item:first-child::after {align-self: flex-end;width: 50%;}#sk-container-id-2 div.sk-parallel-item:last-child::after {align-self: flex-start;width: 50%;}#sk-container-id-2 div.sk-parallel-item:only-child::after {width: 0;}#sk-container-id-2 div.sk-dashed-wrapped {border: 1px dashed gray;margin: 0 0.4em 0.5em 0.4em;box-sizing: border-box;padding-bottom: 0.4em;background-color: white;}#sk-container-id-2 div.sk-label label {font-family: monospace;font-weight: bold;display: inline-block;line-height: 1.2em;}#sk-container-id-2 div.sk-label-container {text-align: center;}#sk-container-id-2 div.sk-container {/* jupyter's `normalize.less` sets `[hidden] { display: none; }` but bootstrap.min.css set `[hidden] { display: none !important; }` so we also need the `!important` here to be able to override the default hidden behavior on the sphinx rendered scikit-learn.org. See: https://github.com/scikit-learn/scikit-learn/issues/21755 */display: inline-block !important;position: relative;}#sk-container-id-2 div.sk-text-repr-fallback {display: none;}</style><div id=\"sk-container-id-2\" class=\"sk-top-container\"><div class=\"sk-text-repr-fallback\"><pre>LinearRegression()</pre><b>In a Jupyter environment, please rerun this cell to show the HTML representation or trust the notebook. <br />On GitHub, the HTML representation is unable to render, please try loading this page with nbviewer.org.</b></div><div class=\"sk-container\" hidden><div class=\"sk-item\"><div class=\"sk-estimator sk-toggleable\"><input class=\"sk-toggleable__control sk-hidden--visually\" id=\"sk-estimator-id-2\" type=\"checkbox\" checked><label for=\"sk-estimator-id-2\" class=\"sk-toggleable__label sk-toggleable__label-arrow\">LinearRegression</label><div class=\"sk-toggleable__content\"><pre>LinearRegression()</pre></div></div></div></div></div>"
      ],
      "text/plain": [
       "LinearRegression()"
      ]
     },
     "execution_count": 13,
     "metadata": {},
     "output_type": "execute_result"
    }
   ],
   "source": [
    "lr.fit(X,y)"
   ]
  },
  {
   "cell_type": "code",
   "execution_count": 14,
   "metadata": {},
   "outputs": [
    {
     "data": {
      "text/plain": [
       "array([27.55236663])"
      ]
     },
     "execution_count": 14,
     "metadata": {},
     "output_type": "execute_result"
    }
   ],
   "source": [
    "lr.coef_"
   ]
  },
  {
   "cell_type": "code",
   "execution_count": 15,
   "metadata": {},
   "outputs": [
    {
     "data": {
      "text/plain": [
       "1.2343635122269183"
      ]
     },
     "execution_count": 15,
     "metadata": {},
     "output_type": "execute_result"
    }
   ],
   "source": [
    "lr.intercept_"
   ]
  },
  {
   "cell_type": "code",
   "execution_count": null,
   "metadata": {},
   "outputs": [],
   "source": [
    "# step 1 - assume a m - 27.55"
   ]
  },
  {
   "cell_type": "code",
   "execution_count": 95,
   "metadata": {},
   "outputs": [],
   "source": [
    "class GDRegressor():\n",
    "    def __init__(self, learning_rate, epochs):\n",
    "        self.m = 27.55\n",
    "        self.b = -120\n",
    "        self.lr = learning_rate\n",
    "        self.epochs = epochs\n",
    "    \n",
    "    def fit(self, X, y):\n",
    "\n",
    "        for i in range(self.epochs):\n",
    "            loss_slope = -2 * np.sum(y - self.m*X.ravel() - self.b)\n",
    "            self.b = self.b - (self.lr * loss_slope)\n",
    "            print(loss_slope, self.b)\n",
    "        # print(self.b)\n",
    "\n",
    "    def predict(self, X):\n",
    "        return self.m * X + self.b"
   ]
  },
  {
   "cell_type": "code",
   "execution_count": 96,
   "metadata": {},
   "outputs": [],
   "source": [
    "gd = GDRegressor(0.001, 100)"
   ]
  },
  {
   "cell_type": "code",
   "execution_count": 97,
   "metadata": {},
   "outputs": [
    {
     "name": "stdout",
     "output_type": "stream",
     "text": [
      "-36212.35261654332 -83.78764738345669\n",
      "-24624.399779249463 -59.16324760420723\n",
      "-16744.59184988963 -42.4186557543176\n",
      "-11386.32245792495 -31.032333296392647\n",
      "-7742.699271388967 -23.28963402500368\n",
      "-5265.035504544498 -18.02459852045918\n",
      "-3580.2241430902577 -14.444374377368922\n",
      "-2434.5524173013746 -12.009821960067548\n",
      "-1655.4956437649353 -10.354326316302613\n",
      "-1125.7370377601562 -9.228589278542456\n",
      "-765.5011856769058 -8.46308809286555\n",
      "-520.5408062602953 -7.942547286605255\n",
      "-353.96774825700226 -7.588579538348253\n",
      "-240.69806881476126 -7.347881469533492\n",
      "-163.67468679403697 -7.184206782739455\n",
      "-111.29878701994511 -7.07290799571951\n",
      "-75.68317517356286 -6.997224820545948\n",
      "-51.46455911802332 -6.945760261427925\n",
      "-34.99590020025545 -6.9107643612276695\n",
      "-23.79721213617404 -6.886967149091495\n",
      "-16.182104252598492 -6.870785044838897\n",
      "-11.003830891766825 -6.85978121394713\n",
      "-7.48260500640157 -6.852298608940728\n",
      "-5.088171404352806 -6.847210437536376\n",
      "-3.4599565549600584 -6.843750480981416\n",
      "-2.352770457372401 -6.841397710524043\n",
      "-1.5998839110135918 -6.8397978266130295\n",
      "-1.0879210594887923 -6.83870990555354\n",
      "-0.7397863204532769 -6.837970119233087\n",
      "-0.5030546979079418 -6.837467064535179\n",
      "-0.34207719457674557 -6.837124987340602\n",
      "-0.2326124923124553 -6.83689237484829\n",
      "-0.15817649477253326 -6.8367341983535175\n",
      "-0.1075600164451771 -6.836626638337072\n",
      "-0.07314081118261129 -6.836553497525889\n",
      "-0.04973575160420296 -6.836503761774285\n",
      "-0.03382031109077843 -6.836469941463195\n",
      "-0.022997811541983992 -6.836446943651652\n",
      "-0.0156385118483513 -6.836431305139804\n",
      "-0.010634188057053962 -6.836420670951747\n",
      "-0.0072312478793605806 -6.836413439703867\n",
      "-0.004917248557148923 -6.836408522455311\n",
      "-0.0033437290195479363 -6.836405178726291\n",
      "-0.0022737357331834573 -6.836402904990558\n",
      "-0.0015461402986716166 -6.836401358850259\n",
      "-0.0010513754025396338 -6.8364003074748565\n",
      "-0.0007149352740043469 -6.836399592539583\n",
      "-0.0004861559864366427 -6.836399106383596\n",
      "-0.0003305860703903818 -6.836398775797526\n",
      "-0.00022479852805190603 -6.8363985509989975\n",
      "-0.0001528629989024921 -6.836398398135999\n",
      "-0.00010394683920367243 -6.836398294189159\n",
      "-7.068385116326681e-05 -6.8363982235053085\n",
      "-4.806501863185986e-05 -6.83639817544029\n",
      "-3.268421278335154e-05 -6.836398142756077\n",
      "-2.2225264842745673e-05 -6.836398120530812\n",
      "-1.5113179983927694e-05 -6.836398105417632\n",
      "-1.0276961859290168e-05 -6.83639809514067\n",
      "-6.988334462221246e-06 -6.836398088152336\n",
      "-4.752067468416499e-06 -6.836398083400269\n",
      "-3.231405685255595e-06 -6.8363980801688635\n",
      "-2.1973559114485397e-06 -6.8363980779715074\n",
      "-1.4942023085495748e-06 -6.836398076477305\n",
      "-1.0160579222429078e-06 -6.836398075461247\n",
      "-6.909189664838777e-07 -6.836398074770328\n",
      "-4.6982518142613117e-07 -6.836398074300503\n",
      "-3.194805344719498e-07 -6.836398073981022\n",
      "-2.172464519389905e-07 -6.8363980737637755\n",
      "-1.4772774648008635e-07 -6.8363980736160475\n",
      "-1.0045505405287258e-07 -6.836398073515593\n",
      "-6.831010068708565e-08 -6.836398073447283\n",
      "-4.645022499971674e-08 -6.836398073400833\n",
      "-3.1585898341290886e-08 -6.836398073369247\n",
      "-2.147913846783922e-08 -6.836398073347768\n",
      "-1.4605120668420568e-08 -6.836398073333163\n",
      "-9.931852673616959e-09 -6.836398073323231\n",
      "-6.753737125109183e-09 -6.836398073316477\n",
      "-4.5920955926703755e-09 -6.836398073311885\n",
      "-3.1232048058882356e-09 -6.836398073308763\n",
      "-2.124124875990674e-09 -6.836398073306638\n",
      "-1.4446186469285749e-09 -6.836398073305194\n",
      "-9.816290003072936e-10 -6.8363980733042125\n",
      "-6.676827979390509e-10 -6.8363980733035445\n",
      "-4.53894699603552e-10 -6.836398073303091\n",
      "-3.086029209953267e-10 -6.8363980733027825\n",
      "-2.1026380636612885e-10 -6.836398073302572\n",
      "-1.4347278920467943e-10 -6.836398073302428\n",
      "-9.703171599539928e-11 -6.836398073302331\n",
      "-6.59952092973981e-11 -6.836398073302266\n",
      "-4.439471013029106e-11 -6.836398073302221\n",
      "-3.063860276597552e-11 -6.836398073302191\n",
      "-2.1032064978498966e-11 -6.83639807330217\n",
      "-1.4097167877480388e-11 -6.836398073302155\n",
      "-9.322320693172514e-12 -6.8363980733021465\n",
      "-7.275957614183426e-12 -6.8363980733021394\n",
      "-4.320099833421409e-12 -6.836398073302135\n",
      "-2.9558577807620168e-12 -6.836398073302132\n",
      "-2.1600499167107046e-12 -6.836398073302131\n",
      "-1.8758328224066645e-12 -6.836398073302129\n",
      "-1.7621459846850485e-12 -6.836398073302127\n"
     ]
    }
   ],
   "source": [
    "gd.fit(X_train,Y_train)"
   ]
  },
  {
   "cell_type": "code",
   "execution_count": 98,
   "metadata": {},
   "outputs": [
    {
     "name": "stdout",
     "output_type": "stream",
     "text": [
      "R2 score:  0.5108628676693946\n"
     ]
    }
   ],
   "source": [
    "# for constant b\n",
    "y_pred = gd.predict(X_test)\n",
    "print(\"R2 score: \", r2_score(Y_test, y_pred))"
   ]
  },
  {
   "cell_type": "code",
   "execution_count": 28,
   "metadata": {},
   "outputs": [],
   "source": [
    "# Gradient Descent can be applied to any logistic or linear regression job"
   ]
  },
  {
   "attachments": {},
   "cell_type": "markdown",
   "metadata": {},
   "source": [
    "## Considering no known m value\n",
    "\n",
    "### Now, we will be performing gradient descent in 3D, instead of 2D"
   ]
  },
  {
   "cell_type": "code",
   "execution_count": null,
   "metadata": {},
   "outputs": [],
   "source": [
    "# take random m and b\n",
    "m = 1\n",
    "b = 0\n",
    "epochs = 100\n"
   ]
  },
  {
   "cell_type": "code",
   "execution_count": 81,
   "metadata": {},
   "outputs": [],
   "source": [
    "# gradient descent for a 2D dataset - line in 2 dimension - input(cgpa) and output(lpa)\n",
    "# we have to find n + 1 coefficients, where n is the number of inputs\n",
    "\n",
    "class GDRegressor_OG():\n",
    "    def __init__(self, learning_rate, epochs):\n",
    "        self.m = 28\n",
    "        self.b = -120\n",
    "        self.lr = learning_rate\n",
    "        self.epochs = epochs\n",
    "    \n",
    "    def fit(self, X, y):\n",
    "        for i in range(self.epochs):\n",
    "            loss_slope_b = -2 * np.sum(y - self.m*X.ravel() - self.b)\n",
    "            loss_slop_m = -2 * np.sum((y - self.m*X.ravel() - self.b) * X.ravel())\n",
    "            self.b = self.b - (self.lr * loss_slope_b)\n",
    "            self.m = self.m - (self.lr * loss_slop_m)\n",
    "            print(self.b)\n",
    "            print(self.m)\n",
    "\n",
    "    def predict(self, X):\n",
    "        return self.m * X + self.b"
   ]
  },
  {
   "cell_type": "code",
   "execution_count": 82,
   "metadata": {},
   "outputs": [],
   "source": [
    "gd = GDRegressor_OG(0.001, 100)"
   ]
  },
  {
   "cell_type": "code",
   "execution_count": 83,
   "metadata": {},
   "outputs": [
    {
     "name": "stdout",
     "output_type": "stream",
     "text": [
      "-83.77254233762679\n",
      "38.86176061513806\n",
      "-58.77327692302406\n",
      "48.07404957290258\n",
      "-41.46454967019359\n",
      "55.69513038131703\n",
      "-29.438800082970115\n",
      "61.88664329653407\n",
      "-21.053461282900937\n",
      "66.84839925366556\n",
      "-15.184880785233382\n",
      "70.78263145284176\n",
      "-11.062186585321648\n",
      "73.87593804669767\n",
      "-8.154922223012527\n",
      "76.29156522125975\n",
      "-6.096897658465209\n",
      "78.1674978542636\n",
      "-4.634471958138986\n",
      "79.61760996910209\n",
      "-3.5913469042435486\n",
      "80.73424766328743\n",
      "-2.8445399486034093\n",
      "81.59131238284384\n",
      "-2.307942325727922\n",
      "82.24733728871367\n",
      "-1.9210353060198866\n",
      "82.74830392833384\n",
      "-1.6411227013946181\n",
      "83.13009458203591\n",
      "-1.437966651757001\n",
      "83.42055836998739\n",
      "-1.2900706072724608\n",
      "83.64121234559725\n",
      "-1.1820946561026715\n",
      "83.80861858089433\n",
      "-1.10305172295972\n",
      "83.93548471332497\n",
      "-1.0450440423233434\n",
      "84.03153469806625\n",
      "-1.002374731887323\n",
      "84.10419225412916\n",
      "-0.9709207214258992\n",
      "84.15911382779468\n",
      "-0.9476884545626474\n",
      "84.20060200031833\n",
      "-0.930497889212595\n",
      "84.23192474556731\n",
      "-0.9177569014356614\n",
      "84.25556106934835\n",
      "-0.9082996347385405\n",
      "84.27338941759129\n",
      "-0.901270253346096\n",
      "84.28683180545985\n",
      "-0.8960390564774161\n",
      "84.29696382486938\n",
      "-0.8921417434566465\n",
      "84.3045984459924\n",
      "-0.8892353010426184\n",
      "84.31034974922852\n",
      "-0.8870658675367169\n",
      "84.31468132435673\n",
      "-0.8854452557730877\n",
      "84.31794297989656\n",
      "-0.8842337565373525\n",
      "84.32039855598602\n",
      "-0.8833275113028962\n",
      "84.32224697700045\n",
      "-0.8826492190231646\n",
      "84.32363817400213\n",
      "-0.8821412822852382\n",
      "84.32468511852989\n",
      "-0.8817607427588413\n",
      "84.32547291173944\n",
      "-0.8814755322085919\n",
      "84.32606564568015\n",
      "-0.8812616928714463\n",
      "84.32651158029611\n",
      "-0.8811013135381617\n",
      "84.32684704795247\n",
      "-0.880980995026365\n",
      "84.3270993971628\n",
      "-0.880890707890816\n",
      "84.32728921122214\n",
      "-0.8808229411940527\n",
      "84.32743197987126\n",
      "-0.8807720675580574\n",
      "84.32753935852152\n",
      "-0.8807338691312847\n",
      "84.32762011658878\n",
      "-0.8807051834137305\n",
      "84.327680851553\n",
      "-0.8806836384493087\n",
      "84.3277265265258\n",
      "-0.8806674547122635\n",
      "84.32776087488755\n",
      "-0.8806552968075649\n",
      "84.32778670482466\n",
      "-0.8806461624048506\n",
      "84.3278061285029\n",
      "-0.8806392990208934\n",
      "84.32782073450909\n",
      "-0.8806341416433743\n",
      "84.32783171759324\n",
      "-0.8806302659600178\n",
      "84.32783997627642\n",
      "-0.8806273532780285\n",
      "84.32784618627788\n",
      "-0.8806251642045945\n",
      "84.32785085574857\n",
      "-0.8806235188956177\n",
      "84.32785436681654\n",
      "-0.8806222822303079\n",
      "84.32785700683498\n",
      "-0.8806213526810097\n",
      "84.32785899188417\n",
      "-0.8806206539557995\n",
      "84.32786048444684\n",
      "-0.8806201287221511\n",
      "84.32786160670099\n",
      "-0.8806197338928251\n",
      "84.3278624505165\n",
      "-0.8806194370847232\n",
      "84.32786308497282\n",
      "-0.8806192139585659\n",
      "84.32786356201206\n",
      "-0.880619046220113\n",
      "84.32786392069015\n",
      "-0.880618920118301\n",
      "84.32786419037352\n",
      "-0.8806188253166694\n",
      "84.32786439314283\n",
      "-0.8806187540452493\n",
      "84.32786454560046\n",
      "-0.8806187004631737\n",
      "84.32786466022962\n",
      "-0.8806186601796318\n",
      "84.32786474641631\n",
      "-0.8806186298938146\n",
      "84.32786481121774\n",
      "-0.8806186071242844\n",
      "84.32786485994008\n",
      "-0.8806185900055524\n",
      "84.32786489657296\n",
      "-0.8806185771351669\n",
      "84.32786492411611\n",
      "-0.8806185674587703\n",
      "84.32786494482495\n",
      "-0.8806185601836919\n",
      "84.32786496039526\n",
      "-0.8806185547139939\n",
      "84.32786497210206\n",
      "-0.8806185506016395\n",
      "84.32786498090402\n",
      "-0.8806185475097852\n",
      "84.32786498752192\n",
      "-0.8806185451851829\n",
      "84.3278649924977\n",
      "-0.8806185434374324\n",
      "84.3278649962388\n",
      "-0.8806185421233851\n",
      "84.32786499905161\n",
      "-0.8806185411354159\n",
      "84.32786500116647\n",
      "-0.8806185403926079\n",
      "84.32786500275655\n",
      "-0.880618539834125\n",
      "84.32786500395208\n",
      "-0.8806185394142265\n",
      "84.32786500485096\n",
      "-0.8806185390985226\n",
      "84.32786500552679\n",
      "-0.8806185388611592\n",
      "84.32786500603493\n",
      "-0.8806185386826954\n",
      "84.32786500641697\n",
      "-0.8806185385485155\n",
      "84.32786500670422\n",
      "-0.8806185384476317\n",
      "84.32786500692019\n",
      "-0.8806185383717811\n",
      "84.32786500708256\n",
      "-0.8806185383147527\n",
      "84.32786500720465\n",
      "-0.8806185382718752\n",
      "84.32786500729644\n",
      "-0.8806185382396373\n",
      "84.32786500736546\n",
      "-0.8806185382153987\n",
      "84.32786500741736\n",
      "-0.8806185381971742\n",
      "84.32786500745637\n",
      "-0.8806185381834721\n",
      "84.3278650074857\n",
      "-0.8806185381731706\n",
      "84.32786500750775\n",
      "-0.8806185381654252\n",
      "84.32786500752434\n",
      "-0.8806185381596018\n",
      "84.3278650075368\n"
     ]
    }
   ],
   "source": [
    "gd.fit(X_train, Y_train)"
   ]
  },
  {
   "cell_type": "code",
   "execution_count": 84,
   "metadata": {},
   "outputs": [],
   "source": [
    "y_pred = gd.predict(X_test)"
   ]
  },
  {
   "cell_type": "code",
   "execution_count": 88,
   "metadata": {},
   "outputs": [
    {
     "name": "stdout",
     "output_type": "stream",
     "text": [
      "0.9388550744724383\n"
     ]
    }
   ],
   "source": [
    "r2_score = r2_score(Y_test, y_pred)\n",
    "print(r2_score)"
   ]
  }
 ],
 "metadata": {
  "kernelspec": {
   "display_name": "DL",
   "language": "python",
   "name": "python3"
  },
  "language_info": {
   "codemirror_mode": {
    "name": "ipython",
    "version": 3
   },
   "file_extension": ".py",
   "mimetype": "text/x-python",
   "name": "python",
   "nbconvert_exporter": "python",
   "pygments_lexer": "ipython3",
   "version": "3.11.3"
  },
  "orig_nbformat": 4
 },
 "nbformat": 4,
 "nbformat_minor": 2
}
